{
 "cells": [
  {
   "cell_type": "code",
   "execution_count": null,
   "metadata": {},
   "outputs": [],
   "source": [
    "things = ['cinderella', 'mozzarella', 'salmonella']\n",
    "print(\"First List:\")\n",
    "print(things)\n",
    "\n",
    "#Capitalize the C in Cinderella \n",
    "things[0] = 'Cinderella'\n",
    "\n",
    "#Make the cheese all caps\n",
    "things[1] = 'MOZZARELLA'\n",
    "\n",
    "#Remove the disease\n",
    "things.remove('salmonella')\n",
    "\n",
    "print(\"\\nNew List: \")\n",
    "print(things)"
   ]
  }
 ],
 "metadata": {
  "language_info": {
   "name": "python"
  },
  "orig_nbformat": 4
 },
 "nbformat": 4,
 "nbformat_minor": 2
}
