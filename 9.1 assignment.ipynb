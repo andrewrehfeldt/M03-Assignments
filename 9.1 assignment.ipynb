{
 "cells": [
  {
   "cell_type": "code",
   "execution_count": null,
   "metadata": {},
   "outputs": [],
   "source": [
    "\n",
    "def good(harryPotter,*,start=0, end=5):\n",
    "    for value in (harryPotter[start:end]):\n",
    "        print(value)\n",
    "harryPotter = ['[Harry,', 'Ron,' , 'Hermoine]' , 'Severus Snape', 'Dumbledore']\n",
    "good(harryPotter, end=3)"
   ]
  }
 ],
 "metadata": {
  "language_info": {
   "name": "python"
  },
  "orig_nbformat": 4
 },
 "nbformat": 4,
 "nbformat_minor": 2
}
