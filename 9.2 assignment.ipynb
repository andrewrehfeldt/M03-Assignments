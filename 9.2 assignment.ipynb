{
 "cells": [
  {
   "cell_type": "code",
   "execution_count": null,
   "metadata": {},
   "outputs": [],
   "source": [
    "def get_odds():\n",
    "    odd_numbs = []\n",
    "    for i in range(10):\n",
    "        if i % 2 > 0:\n",
    "            odd_numbs.append(i)\n",
    "    return odd_numbs\n",
    "    \n",
    "oddNumbers = get_odds()\n",
    "print (oddNumbers[3])\n",
    "            "
   ]
  }
 ],
 "metadata": {
  "language_info": {
   "name": "python"
  },
  "orig_nbformat": 4
 },
 "nbformat": 4,
 "nbformat_minor": 2
}
